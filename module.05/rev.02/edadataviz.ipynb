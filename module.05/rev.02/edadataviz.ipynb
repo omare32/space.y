{
 "cells": [
  {
   "cell_type": "markdown",
   "metadata": {},
   "source": [
    "<p style=\"text-align:center\">\n",
    "    <a href=\"https://skills.network/?utm_medium=Exinfluencer&utm_source=Exinfluencer&utm_content=000026UJ&utm_term=10006555&utm_id=NA-SkillsNetwork-Channel-SkillsNetworkCoursesIBMDS0321ENSkillsNetwork26802033-2022-01-01\" target=\"_blank\">\n",
    "    <img src=\"https://cf-courses-data.s3.us.cloud-object-storage.appdomain.cloud/assets/logos/SN_web_lightmode.png\" width=\"200\" alt=\"Skills Network Logo\">\n",
    "    </a>\n",
    "</p>\n"
   ]
  },
  {
   "cell_type": "markdown",
   "metadata": {},
   "source": [
    "# **SpaceX  Falcon 9 First Stage Landing Prediction**\n"
   ]
  },
  {
   "cell_type": "markdown",
   "metadata": {},
   "source": [
    "## Assignment: Exploring and Preparing Data\n"
   ]
  },
  {
   "cell_type": "markdown",
   "metadata": {},
   "source": [
    "Estimated time needed: **70** minutes\n"
   ]
  },
  {
   "cell_type": "markdown",
   "metadata": {},
   "source": [
    "In this assignment, we will predict if the Falcon 9 first stage will land successfully. SpaceX advertises Falcon 9 rocket launches on its website with a cost of 62 million dollars; other providers cost upward of 165 million dollars each, much of the savings is due to the fact that SpaceX can reuse the first stage.\n",
    "\n",
    "In this lab, you will perform Exploratory Data Analysis and Feature Engineering.\n"
   ]
  },
  {
   "cell_type": "markdown",
   "metadata": {},
   "source": [
    "Falcon 9 first stage will land successfully\n"
   ]
  },
  {
   "cell_type": "markdown",
   "metadata": {},
   "source": [
    "![](https://cf-courses-data.s3.us.cloud-object-storage.appdomain.cloud/IBMDeveloperSkillsNetwork-DS0701EN-SkillsNetwork/api/Images/landing_1.gif)\n"
   ]
  },
  {
   "cell_type": "markdown",
   "metadata": {},
   "source": [
    "Several examples of an unsuccessful landing are shown here:\n"
   ]
  },
  {
   "cell_type": "markdown",
   "metadata": {},
   "source": [
    "![](https://cf-courses-data.s3.us.cloud-object-storage.appdomain.cloud/IBMDeveloperSkillsNetwork-DS0701EN-SkillsNetwork/api/Images/crash.gif)\n"
   ]
  },
  {
   "cell_type": "markdown",
   "metadata": {},
   "source": [
    "Most unsuccessful landings are planned. Space X performs a controlled landing in the oceans.\n"
   ]
  },
  {
   "cell_type": "markdown",
   "metadata": {},
   "source": [
    "## Objectives\n",
    "\n",
    "Perform exploratory Data Analysis and Feature Engineering using `Pandas` and `Matplotlib`\n",
    "\n",
    "*   Exploratory Data Analysis\n",
    "*   Preparing Data  Feature Engineering\n"
   ]
  },
  {
   "cell_type": "markdown",
   "metadata": {},
   "source": [
    "### Import Libraries and Define Auxiliary Functions\n"
   ]
  },
  {
   "cell_type": "markdown",
   "metadata": {},
   "source": [
    "We will import the following libraries the lab\n"
   ]
  },
  {
   "cell_type": "code",
   "execution_count": 1,
   "metadata": {},
   "outputs": [],
   "source": [
    "# JupyterLite install step removed for local execution\n",
    "# Requirements handled by environment (requirements.txt)\n"
   ]
  },
  {
   "cell_type": "code",
   "execution_count": 2,
   "metadata": {},
   "outputs": [],
   "source": [
    "# pandas is a software library written for the Python programming language for data manipulation and analysis.\n",
    "import pandas as pd\n",
    "#NumPy is a library for the Python programming language, adding support for large, multi-dimensional arrays and matrices, along with a large collection of high-level mathematical functions to operate on these arrays\n",
    "import numpy as np\n",
    "# Matplotlib is a plotting library for python and pyplot gives us a MatLab like plotting framework. We will use this in our plotter function to plot data.\n",
    "import matplotlib.pyplot as plt\n",
    "#Seaborn is a Python data visualization library based on matplotlib. It provides a high-level interface for drawing attractive and informative statistical graphics\n",
    "import seaborn as sns"
   ]
  },
  {
   "cell_type": "markdown",
   "metadata": {},
   "source": [
    "## Exploratory Data Analysis\n"
   ]
  },
  {
   "cell_type": "markdown",
   "metadata": {},
   "source": [
    "First, let's read the SpaceX dataset into a Pandas dataframe and print its summary\n"
   ]
  },
  {
   "cell_type": "code",
   "execution_count": 3,
   "metadata": {},
   "outputs": [
    {
     "data": {
      "text/html": [
       "<div>\n",
       "<style scoped>\n",
       "    .dataframe tbody tr th:only-of-type {\n",
       "        vertical-align: middle;\n",
       "    }\n",
       "\n",
       "    .dataframe tbody tr th {\n",
       "        vertical-align: top;\n",
       "    }\n",
       "\n",
       "    .dataframe thead th {\n",
       "        text-align: right;\n",
       "    }\n",
       "</style>\n",
       "<table border=\"1\" class=\"dataframe\">\n",
       "  <thead>\n",
       "    <tr style=\"text-align: right;\">\n",
       "      <th></th>\n",
       "      <th>FlightNumber</th>\n",
       "      <th>Date</th>\n",
       "      <th>BoosterVersion</th>\n",
       "      <th>PayloadMass</th>\n",
       "      <th>Orbit</th>\n",
       "      <th>LaunchSite</th>\n",
       "      <th>Outcome</th>\n",
       "      <th>Flights</th>\n",
       "      <th>GridFins</th>\n",
       "      <th>Reused</th>\n",
       "      <th>Legs</th>\n",
       "      <th>LandingPad</th>\n",
       "      <th>Block</th>\n",
       "      <th>ReusedCount</th>\n",
       "      <th>Serial</th>\n",
       "      <th>Longitude</th>\n",
       "      <th>Latitude</th>\n",
       "      <th>Class</th>\n",
       "    </tr>\n",
       "  </thead>\n",
       "  <tbody>\n",
       "    <tr>\n",
       "      <th>0</th>\n",
       "      <td>1</td>\n",
       "      <td>2010-06-04</td>\n",
       "      <td>Falcon 9</td>\n",
       "      <td>6104.959412</td>\n",
       "      <td>LEO</td>\n",
       "      <td>CCAFS SLC 40</td>\n",
       "      <td>None None</td>\n",
       "      <td>1</td>\n",
       "      <td>False</td>\n",
       "      <td>False</td>\n",
       "      <td>False</td>\n",
       "      <td>NaN</td>\n",
       "      <td>1.0</td>\n",
       "      <td>0</td>\n",
       "      <td>B0003</td>\n",
       "      <td>-80.577366</td>\n",
       "      <td>28.561857</td>\n",
       "      <td>0</td>\n",
       "    </tr>\n",
       "    <tr>\n",
       "      <th>1</th>\n",
       "      <td>2</td>\n",
       "      <td>2012-05-22</td>\n",
       "      <td>Falcon 9</td>\n",
       "      <td>525.000000</td>\n",
       "      <td>LEO</td>\n",
       "      <td>CCAFS SLC 40</td>\n",
       "      <td>None None</td>\n",
       "      <td>1</td>\n",
       "      <td>False</td>\n",
       "      <td>False</td>\n",
       "      <td>False</td>\n",
       "      <td>NaN</td>\n",
       "      <td>1.0</td>\n",
       "      <td>0</td>\n",
       "      <td>B0005</td>\n",
       "      <td>-80.577366</td>\n",
       "      <td>28.561857</td>\n",
       "      <td>0</td>\n",
       "    </tr>\n",
       "    <tr>\n",
       "      <th>2</th>\n",
       "      <td>3</td>\n",
       "      <td>2013-03-01</td>\n",
       "      <td>Falcon 9</td>\n",
       "      <td>677.000000</td>\n",
       "      <td>ISS</td>\n",
       "      <td>CCAFS SLC 40</td>\n",
       "      <td>None None</td>\n",
       "      <td>1</td>\n",
       "      <td>False</td>\n",
       "      <td>False</td>\n",
       "      <td>False</td>\n",
       "      <td>NaN</td>\n",
       "      <td>1.0</td>\n",
       "      <td>0</td>\n",
       "      <td>B0007</td>\n",
       "      <td>-80.577366</td>\n",
       "      <td>28.561857</td>\n",
       "      <td>0</td>\n",
       "    </tr>\n",
       "    <tr>\n",
       "      <th>3</th>\n",
       "      <td>4</td>\n",
       "      <td>2013-09-29</td>\n",
       "      <td>Falcon 9</td>\n",
       "      <td>500.000000</td>\n",
       "      <td>PO</td>\n",
       "      <td>VAFB SLC 4E</td>\n",
       "      <td>False Ocean</td>\n",
       "      <td>1</td>\n",
       "      <td>False</td>\n",
       "      <td>False</td>\n",
       "      <td>False</td>\n",
       "      <td>NaN</td>\n",
       "      <td>1.0</td>\n",
       "      <td>0</td>\n",
       "      <td>B1003</td>\n",
       "      <td>-120.610829</td>\n",
       "      <td>34.632093</td>\n",
       "      <td>0</td>\n",
       "    </tr>\n",
       "    <tr>\n",
       "      <th>4</th>\n",
       "      <td>5</td>\n",
       "      <td>2013-12-03</td>\n",
       "      <td>Falcon 9</td>\n",
       "      <td>3170.000000</td>\n",
       "      <td>GTO</td>\n",
       "      <td>CCAFS SLC 40</td>\n",
       "      <td>None None</td>\n",
       "      <td>1</td>\n",
       "      <td>False</td>\n",
       "      <td>False</td>\n",
       "      <td>False</td>\n",
       "      <td>NaN</td>\n",
       "      <td>1.0</td>\n",
       "      <td>0</td>\n",
       "      <td>B1004</td>\n",
       "      <td>-80.577366</td>\n",
       "      <td>28.561857</td>\n",
       "      <td>0</td>\n",
       "    </tr>\n",
       "  </tbody>\n",
       "</table>\n",
       "</div>"
      ],
      "text/plain": [
       "   FlightNumber        Date BoosterVersion  PayloadMass Orbit    LaunchSite  \\\n",
       "0             1  2010-06-04       Falcon 9  6104.959412   LEO  CCAFS SLC 40   \n",
       "1             2  2012-05-22       Falcon 9   525.000000   LEO  CCAFS SLC 40   \n",
       "2             3  2013-03-01       Falcon 9   677.000000   ISS  CCAFS SLC 40   \n",
       "3             4  2013-09-29       Falcon 9   500.000000    PO   VAFB SLC 4E   \n",
       "4             5  2013-12-03       Falcon 9  3170.000000   GTO  CCAFS SLC 40   \n",
       "\n",
       "       Outcome  Flights  GridFins  Reused   Legs LandingPad  Block  \\\n",
       "0    None None        1     False   False  False        NaN    1.0   \n",
       "1    None None        1     False   False  False        NaN    1.0   \n",
       "2    None None        1     False   False  False        NaN    1.0   \n",
       "3  False Ocean        1     False   False  False        NaN    1.0   \n",
       "4    None None        1     False   False  False        NaN    1.0   \n",
       "\n",
       "   ReusedCount Serial   Longitude   Latitude  Class  \n",
       "0            0  B0003  -80.577366  28.561857      0  \n",
       "1            0  B0005  -80.577366  28.561857      0  \n",
       "2            0  B0007  -80.577366  28.561857      0  \n",
       "3            0  B1003 -120.610829  34.632093      0  \n",
       "4            0  B1004  -80.577366  28.561857      0  "
      ]
     },
     "execution_count": 3,
     "metadata": {},
     "output_type": "execute_result"
    }
   ],
   "source": [
    "import os\n",
    "\n",
    "URL = 'https://cf-courses-data.s3.us.cloud-object-storage.appdomain.cloud/IBM-DS0321EN-SkillsNetwork/datasets/dataset_part_2.csv'\n",
    "\n",
    "# Prefer local files first to avoid network timeouts\n",
    "candidates = [\n",
    "    os.path.join('module.02', 'dataset_part_2.csv'),\n",
    "    os.path.join('module.01', 'spacex_launches_clean.csv'),\n",
    "    'dataset_part_2.csv'\n",
    "]\n",
    "\n",
    "df = None\n",
    "for p in candidates:\n",
    "    if os.path.exists(p):\n",
    "        df = pd.read_csv(p)\n",
    "        break\n",
    "\n",
    "# If none of the local candidates exist, try remote as a last resort\n",
    "if df is None:\n",
    "    df = pd.read_csv(URL)\n",
    "\n",
    "# Ensure Class column exists (derive from 'Outcome' if needed)\n",
    "if 'Class' not in df.columns:\n",
    "    # Treat any Outcome starting with 'True' as success (1), else 0\n",
    "    df['Outcome'] = df['Outcome'].astype(str)\n",
    "    df['Class'] = df['Outcome'].str.startswith('True').astype(int)\n",
    "\n",
    "df.head(5)"
   ]
  },
  {
   "cell_type": "markdown",
   "metadata": {},
   "source": [
    "First, let's try to see how the `FlightNumber` (indicating the continuous launch attempts.) and `Payload` variables would affect the launch outcome.\n",
    "\n",
    "We can plot out the <code>FlightNumber</code> vs. <code>PayloadMass</code>and overlay the outcome of the launch. We see that as the flight number increases, the first stage is more likely to land successfully. The payload mass also appears to be a factor; even with more massive payloads, the first stage often returns successfully.\n"
   ]
  },
  {
   "cell_type": "code",
   "execution_count": 4,
   "metadata": {},
   "outputs": [
    {
     "data": {
      "image/png": "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
(Content truncated due to size limit. Use page ranges or line ranges to read remaining content)